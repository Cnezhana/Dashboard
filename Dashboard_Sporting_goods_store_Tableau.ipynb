{
  "nbformat": 4,
  "nbformat_minor": 0,
  "metadata": {
    "colab": {
      "provenance": [],
      "authorship_tag": "ABX9TyPVOc2m64mMltXpVGtXjD9Y"
    },
    "kernelspec": {
      "name": "python3",
      "display_name": "Python 3"
    },
    "language_info": {
      "name": "python"
    }
  },
  "cells": [
    {
      "cell_type": "markdown",
      "source": [
        "Дашборд, выполненный на BI платформe Tableau, для интерактивной работы доступен по ссылке, указанной ниже."
      ],
      "metadata": {
        "id": "8MVGBTOgB66T"
      }
    },
    {
      "cell_type": "code",
      "source": [
        "https://public.tableau.com/views/Bikes-Sales2014-2016revised_16658737395900/Story12?:language=en-US&:display_count=n&:origin=viz_share_link"
      ],
      "metadata": {
        "id": "-xAyeZ2toN0J"
      },
      "execution_count": null,
      "outputs": []
    },
    {
      "cell_type": "code",
      "source": [
        "%%html\n",
        "<div class='tableauPlaceholder' id='viz1705867361830' style='position: relative'><noscript><a href='#'><img alt='Story 1 (2) ' src='https:&#47;&#47;public.tableau.com&#47;static&#47;images&#47;Bi&#47;Bikes-Sales2014-2016revised_16658737395900&#47;Story12&#47;1_rss.png' style='border: none' /></a></noscript><object class='tableauViz'  style='display:none;'><param name='host_url' value='https%3A%2F%2Fpublic.tableau.com%2F' /> <param name='embed_code_version' value='3' /> <param name='site_root' value='' /><param name='name' value='Bikes-Sales2014-2016revised_16658737395900&#47;Story12' /><param name='tabs' value='no' /><param name='toolbar' value='yes' /><param name='static_image' value='https:&#47;&#47;public.tableau.com&#47;static&#47;images&#47;Bi&#47;Bikes-Sales2014-2016revised_16658737395900&#47;Story12&#47;1.png' /> <param name='animate_transition' value='yes' /><param name='display_static_image' value='yes' /><param name='display_spinner' value='yes' /><param name='display_overlay' value='yes' /><param name='display_count' value='yes' /><param name='language' value='en-US' /></object></div>                <script type='text/javascript'>                    var divElement = document.getElementById('viz1705867361830');                    var vizElement = divElement.getElementsByTagName('object')[0];                    vizElement.style.width='800px';vizElement.style.height='827px';                    var scriptElement = document.createElement('script');                    scriptElement.src = 'https://public.tableau.com/javascripts/api/viz_v1.js';                    vizElement.parentNode.insertBefore(scriptElement, vizElement);                </script>"
      ],
      "metadata": {
        "colab": {
          "base_uri": "https://localhost:8080/",
          "height": 844
        },
        "outputId": "60ebca67-64e7-47d4-cf6a-588687f6d587",
        "id": "XTtdE2OMpbpV"
      },
      "execution_count": 3,
      "outputs": [
        {
          "output_type": "display_data",
          "data": {
            "text/plain": [
              "<IPython.core.display.HTML object>"
            ],
            "text/html": [
              "<div class='tableauPlaceholder' id='viz1705867361830' style='position: relative'><noscript><a href='#'><img alt='Story 1 (2) ' src='https:&#47;&#47;public.tableau.com&#47;static&#47;images&#47;Bi&#47;Bikes-Sales2014-2016revised_16658737395900&#47;Story12&#47;1_rss.png' style='border: none' /></a></noscript><object class='tableauViz'  style='display:none;'><param name='host_url' value='https%3A%2F%2Fpublic.tableau.com%2F' /> <param name='embed_code_version' value='3' /> <param name='site_root' value='' /><param name='name' value='Bikes-Sales2014-2016revised_16658737395900&#47;Story12' /><param name='tabs' value='no' /><param name='toolbar' value='yes' /><param name='static_image' value='https:&#47;&#47;public.tableau.com&#47;static&#47;images&#47;Bi&#47;Bikes-Sales2014-2016revised_16658737395900&#47;Story12&#47;1.png' /> <param name='animate_transition' value='yes' /><param name='display_static_image' value='yes' /><param name='display_spinner' value='yes' /><param name='display_overlay' value='yes' /><param name='display_count' value='yes' /><param name='language' value='en-US' /></object></div>                <script type='text/javascript'>                    var divElement = document.getElementById('viz1705867361830');                    var vizElement = divElement.getElementsByTagName('object')[0];                    vizElement.style.width='800px';vizElement.style.height='827px';                    var scriptElement = document.createElement('script');                    scriptElement.src = 'https://public.tableau.com/javascripts/api/viz_v1.js';                    vizElement.parentNode.insertBefore(scriptElement, vizElement);                </script>\n"
            ]
          },
          "metadata": {}
        }
      ]
    }
  ]
}